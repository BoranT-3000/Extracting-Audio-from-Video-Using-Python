{
  "nbformat": 4,
  "nbformat_minor": 0,
  "metadata": {
    "colab": {
      "provenance": [],
      "collapsed_sections": [
        "laYDA9Qcv2_q"
      ]
    },
    "kernelspec": {
      "name": "python3",
      "display_name": "Python 3"
    },
    "language_info": {
      "name": "python"
    }
  },
  "cells": [
    {
      "cell_type": "markdown",
      "source": [
        "#moviepy"
      ],
      "metadata": {
        "id": "NpF37gg50aMr"
      }
    },
    {
      "cell_type": "code",
      "source": [
        "!pip install moviepy"
      ],
      "metadata": {
        "id": "pvygMyoXyrk7"
      },
      "execution_count": null,
      "outputs": []
    },
    {
      "cell_type": "code",
      "execution_count": null,
      "metadata": {
        "id": "z_j78G7ctAXt"
      },
      "outputs": [],
      "source": [
        "from moviepy.editor import VideoFileClip\n",
        "\n",
        "# Ses çıkarmak istediğiniz video dosyasının adını ve yolunu belirtin\n",
        "video_dosya_yolu = \"/content/Never Gonna Give You Up.mp4\"\n",
        "\n",
        "# Video dosyasını yükleyin\n",
        "video_clip = VideoFileClip(video_dosya_yolu)\n",
        "\n",
        "# Video dosyasından tam bir ses almak için başlangıç ve bitiş sürelerini belirtin\n",
        "baslangic_zamani = 0  # Başlangıç zamanı (saniye cinsinden)\n",
        "bitis_zamani = video_clip.duration  # Bitiş zamanı (saniye cinsinden)\n",
        "\n",
        "# Video dosyasından sesi çıkarın\n",
        "ses_clip = video_clip.audio.subclip(baslangic_zamani, bitis_zamani)\n",
        "\n",
        "# Ses dosyasını kaydedin ve kalitesini belirleyin\n",
        "ses_dosya_yolu = \"ses.mp3\"\n",
        "ses_clip.write_audiofile(ses_dosya_yolu, codec='mp3', bitrate='320k')\n",
        "\n",
        "# Belleği temizleyin ve kaynakları serbest bırakın\n",
        "video_clip.close()\n",
        "ses_clip.close()\n"
      ]
    },
    {
      "cell_type": "code",
      "source": [
        "import IPython.display as ipd\n",
        "ipd.Audio(ses_dosya_yolu) # Using IPython.display.Audio, to play the audio"
      ],
      "metadata": {
        "id": "01WowwzvxBux"
      },
      "execution_count": null,
      "outputs": []
    },
    {
      "cell_type": "code",
      "source": [
        "from moviepy.editor import VideoFileClip\n",
        "import os\n",
        "\n",
        "\n",
        "# Define the input video file and output audio file\n",
        "video_file = \"/content/geeksforgeeks.mp4\"\n",
        "filename_with_path, ext = os.path.splitext(video_file)\n",
        "filename = os.path.basename(filename_with_path)  # Sadece dosya adını alır (yol olmadan)\n",
        "output_file = f\"{filename}.mp3\"\n",
        "print(f\"Filename without extension: {output_file}\")\n",
        "\n",
        "try:\n",
        "  video_clip = VideoFileClip(video_file)\n",
        "  audio_clip = video_clip.audio\n",
        "  audio_clip.write_audiofile(output_file)\n",
        "except Exception as e:\n",
        "  print(f\"Error extracting audio: {e}\")\n",
        "finally:\n",
        "    if video_clip:\n",
        "      video_clip.close()\n",
        "    if audio_clip:\n",
        "      audio_clip.close()\n",
        "\n",
        "\n",
        "print(f\"Extracting audio from '{video_file}' to '{output_file}'...\")"
      ],
      "metadata": {
        "id": "3Uj2Hftkysmj"
      },
      "execution_count": null,
      "outputs": []
    },
    {
      "cell_type": "code",
      "source": [
        "from moviepy.editor import VideoFileClip\n",
        "import os\n",
        "\n",
        "def extract_audio_moviepy(video_file, output_format='mp3')->None:\n",
        "    try:\n",
        "        # Dosya adını ve uzantısını ayır\n",
        "        filename_with_path, _ = os.path.splitext(video_file)\n",
        "        filename = os.path.basename(filename_with_path)\n",
        "        output_file = f\"{filename}.{output_format}\"\n",
        "\n",
        "        # Video dosyasını yükle\n",
        "        video_clip = VideoFileClip(video_file)\n",
        "\n",
        "        # Sesi çıkar\n",
        "        audio_clip = video_clip.audio\n",
        "\n",
        "        # Ses dosyasını kaydet\n",
        "        audio_clip.write_audiofile(output_file)\n",
        "        print(f\"Extracting audio from '{video_file}' to '{output_file}' completed successfully!\")\n",
        "\n",
        "        return output_file\n",
        "    except Exception as e:\n",
        "        print(f\"Error extracting audio: {e}\")\n",
        "        return None\n",
        "    finally:\n",
        "        # Kaynakları serbest bırak\n",
        "        if 'video_clip' in locals():\n",
        "            video_clip.close()\n",
        "        if 'audio_clip' in locals():\n",
        "            audio_clip.close()\n",
        "\n",
        "# Örnek kullanım\n",
        "video_path = \"/content/geeksforgeeks.mp4\"\n",
        "output_audio = extract_audio_moviepy(video_path, 'mp3')\n",
        "if output_audio:\n",
        "    print(f\"Audio file saved at: {output_audio}\")"
      ],
      "metadata": {
        "id": "oO-BKXXahRxc"
      },
      "execution_count": null,
      "outputs": []
    },
    {
      "cell_type": "code",
      "source": [
        "from moviepy.editor import VideoFileClip\n",
        "\n",
        "# Video dosyasını yükleyin\n",
        "video_path = \"/content/geeksforgeeks.mp4\"\n",
        "video_clip = VideoFileClip(video_path)\n",
        "\n",
        "# Sesi videodan çıkarın\n",
        "audio_clip = video_clip.audio\n",
        "\n",
        "# Ses dosyasını kaydedin\n",
        "audio_clip.write_audiofile(\"/content/Never Gonna Give You Up.mp3\")\n",
        "\n",
        "# Video dosyasını serbest bırakın\n",
        "video_clip.close()"
      ],
      "metadata": {
        "id": "o7jb12U-ywyP"
      },
      "execution_count": null,
      "outputs": []
    },
    {
      "cell_type": "code",
      "source": [
        "from moviepy.editor import VideoFileClip\n",
        "\n",
        "# Define the input video file and output audio file\n",
        "mp4_file = \"Video.mp4\"\n",
        "mp3_file = \"audio.mp3\"\n",
        "\n",
        "# Load the video clip\n",
        "video_clip = VideoFileClip(mp4_file)\n",
        "\n",
        "# Extract the audio from the video clip\n",
        "audio_clip = video_clip.audio\n",
        "\n",
        "# Write the audio to a separate file\n",
        "audio_clip.write_audiofile(mp3_file)\n",
        "\n",
        "# Close the video and audio clips\n",
        "audio_clip.close()\n",
        "video_clip.close()\n",
        "\n",
        "print(\"Audio extraction successful!\")"
      ],
      "metadata": {
        "id": "3a7nJXpChjj2"
      },
      "execution_count": null,
      "outputs": []
    },
    {
      "cell_type": "code",
      "source": [
        "!pip install -q scikit-image"
      ],
      "metadata": {
        "id": "AA2TMhbt_huh"
      },
      "execution_count": null,
      "outputs": []
    },
    {
      "cell_type": "code",
      "source": [
        "from scipy.ndimage import gaussian_filter\n",
        "from moviepy.editor import VideoFileClip\n",
        "import numpy as np\n",
        "\n",
        "def blur(image):\n",
        "    \"\"\" Returns a blurred (radius=2 pixels) version of the image \"\"\"\n",
        "    return gaussian_filter(image.astype(np.float32), sigma=2)\n",
        "\n",
        "try:\n",
        "  clip = VideoFileClip(\"/content/geeksforgeeks.mp4\")\n",
        "  clip_blurred = clip.fl_image(blur)\n",
        "  clip_blurred.write_videofile(\"blurred_video.mp4\", fps=clip.fps)\n",
        "except Exception as e:\n",
        "  print(f\"Error blurring video: {e}\")\n"
      ],
      "metadata": {
        "id": "Tjgy8DdL-v9F"
      },
      "execution_count": null,
      "outputs": []
    },
    {
      "cell_type": "code",
      "source": [
        "from scipy.ndimage import gaussian_filter\n",
        "from moviepy.editor import VideoFileClip, concatenate_videoclips\n",
        "\n",
        "def blur(image):\n",
        "    \"\"\" Returns a blurred (radius=4 pixels) version of the image \"\"\"\n",
        "    return gaussian_filter(image.astype(float), sigma=4)\n",
        "\n",
        "# Video dosyasının yolunu tanımlayalım\n",
        "video_path = \"/content/video.mp4\"\n",
        "output_path = \"/content/blurdemo.gif\"\n",
        "\n",
        "# Videoyu açın ve 480 piksel genişliğe yeniden boyutlandırılmış alt klipler oluşturun\n",
        "clip1 = VideoFileClip(video_path).subclip(1,2).resize(width=480)\n",
        "clip2 = VideoFileClip(video_path).subclip(2,4).resize(width=480)\n",
        "clip3 = VideoFileClip(video_path).subclip(4,6).resize(width=480)\n",
        "\n",
        "# İkinci klibe bulanıklaştırma efekti uygulayın\n",
        "clip2_blurred = clip2.fl_image( blur )\n",
        "\n",
        "# Klipleri birleştirerek son bir video haline getirin\n",
        "final_clip = concatenate_videoclips([clip1, clip2_blurred, clip3])\n",
        "\n",
        "# Son videoyu bir GIF dosyasına yazın\n",
        "final_clip.write_gif(output_path)\n",
        "print(f\"Blurry demo GIF created at {output_path}\")"
      ],
      "metadata": {
        "id": "6S1dCBjsDJzo"
      },
      "execution_count": null,
      "outputs": []
    },
    {
      "cell_type": "markdown",
      "source": [
        "#ffmpeg"
      ],
      "metadata": {
        "id": "MCYZfBfa0Xgk"
      }
    },
    {
      "cell_type": "code",
      "source": [
        "import subprocess\n",
        "\n",
        "def extract_audio(input_video_path, output_audio_path):\n",
        "    try:\n",
        "      #libmp3lame codec'ini kullanarak MP3 formatında ses dosyasını oluşturacaktır\n",
        "      command = ['ffmpeg', '-i', input_video_path, '-vn', '-acodec', 'libmp3lame', '-ar', '44100', output_audio_path]\n",
        "      subprocess.run(command)\n",
        "      print(\"Conversion completed!\")\n",
        "    except subprocess.CalledProcessError as e:\n",
        "      raise RuntimeError(f\"ffmpeg failed with error: {e}\")\n",
        "\n",
        "# Örnek kullanım\n",
        "extract_audio('/content/geeksforgeeks.mp4', '/content/geeksforgeeks.mp3')"
      ],
      "metadata": {
        "id": "Qa_A0DnSG8fM"
      },
      "execution_count": null,
      "outputs": []
    },
    {
      "cell_type": "code",
      "source": [
        "import subprocess\n",
        "\n",
        "video_path = \"/content/Never Gonna Give You Up.mp4\"\n",
        "output_audio_path = \"subprocess_sesdosyasi.mp3\"\n",
        "\n",
        "# subprocess.call(['ffmpeg', '-i', video_path, '-vn', '-acodec', 'pcm_s16le', '-ar', '44100', output_audio_path])\n",
        "\n",
        "# libmp3lame codec'ini kullanarak MP3 formatında ses dosyasını oluşturacaktır\n",
        "subprocess.call(['ffmpeg', '-i', video_path, '-vn', '-acodec', 'libmp3lame', '-ar', '44100', output_audio_path])"
      ],
      "metadata": {
        "id": "qVknoGfIyzIt"
      },
      "execution_count": null,
      "outputs": []
    },
    {
      "cell_type": "code",
      "source": [
        "import IPython.display as ipd\n",
        "ipd.Audio(output_audio_path) # Using IPython.display.Audio, to play the audio"
      ],
      "metadata": {
        "id": "w1lxZqYPy5qP"
      },
      "execution_count": null,
      "outputs": []
    },
    {
      "cell_type": "code",
      "source": [
        "import IPython.display as ipd\n",
        "import subprocess\n",
        "import time\n",
        "import os, sys\n",
        "\n",
        "def convert_video_to_audio_ffmpeg(video_file:str, output_ext:str=\"mp3\")->str:\n",
        "    \"\"\"Converts video to audio directly using `ffmpeg` command\n",
        "    with the help of subprocess module\"\"\"\n",
        "    filename, ext = os.path.splitext(video_file)\n",
        "    output_file = f\"{filename}.{output_ext}\"\n",
        "    start_time = time.time()\n",
        "    subprocess.call([\"ffmpeg\", \"-y\", \"-i\", video_file,output_file],\n",
        "                    stdout=subprocess.DEVNULL,\n",
        "                    stderr=subprocess.STDOUT)\n",
        "    elapsed_time = time.time() - start_time\n",
        "\n",
        "    print(f\"Conversion completed. Time taken: {elapsed_time:.2f} seconds\")\n",
        "    return output_file\n",
        "\n",
        "video_file= \"/content/video.mp4\"\n",
        "output_file = convert_video_to_audio_ffmpeg(video_file)\n",
        "ipd.Audio(output_file)"
      ],
      "metadata": {
        "id": "gWWprq8iIp0b"
      },
      "execution_count": null,
      "outputs": []
    },
    {
      "cell_type": "code",
      "source": [
        "import IPython.display as ipd\n",
        "import subprocess\n",
        "import time\n",
        "import os, sys\n",
        "import logging\n",
        "\n",
        "# Logging yapılandırması\n",
        "logging.basicConfig(level=logging.INFO, format='%(asctime)s - %(levelname)s - %(message)s')\n",
        "\n",
        "\n",
        "def convert_video_to_audio_ffmpeg(video_file:str, output_ext:str=\"mp3\")->str:\n",
        "    \"\"\"Converts video to audio directly using `ffmpeg` command\n",
        "    with the help of subprocess module\"\"\"\n",
        "\n",
        "    # Check if input file exists\n",
        "    if not os.path.isfile(video_file):\n",
        "        logging.error(f\"The file {video_file} does not exist.\")\n",
        "        raise FileNotFoundError(f\"The file {video_file} does not exist.\")\n",
        "\n",
        "    # Check for valid output extension\n",
        "    valid_extensions = {\"mp3\", \"wav\", \"aac\", \"flac\", \"ogg\"}\n",
        "    if output_ext not in valid_extensions:\n",
        "        logging.error(f\"Invalid output extension '{output_ext}'. Valid options are: {valid_extensions}\")\n",
        "        raise ValueError(f\"Invalid output extension '{output_ext}'. Valid options are: {valid_extensions}\")\n",
        "\n",
        "\n",
        "    filename, ext = os.path.splitext(video_file)\n",
        "    output_file = f\"{filename}.{output_ext}\"\n",
        "    start_time = time.time()\n",
        "\n",
        "    try:\n",
        "        subprocess.call([\"ffmpeg\", \"-y\", \"-i\", video_file,output_file],\n",
        "                    stdout=subprocess.DEVNULL,\n",
        "                    stderr=subprocess.STDOUT)\n",
        "        logging.info(\"Conversion completed!\")\n",
        "\n",
        "    except subprocess.CalledProcessError as e:\n",
        "        logging.error(f\"ffmpeg failed with error: {e}\")\n",
        "        raise RuntimeError(f\"ffmpeg failed with error: {e}\")\n",
        "\n",
        "    elapsed_time = time.time() - start_time\n",
        "    print(f\"Conversion completed. Time taken: {elapsed_time:.2f} seconds\")\n",
        "    return output_file\n",
        "\n",
        "# if __name__ == \"__main__\":\n",
        "#     vf = \"/content/geeksforgeeks.mp4\"\n",
        "#     output_file = convert_video_to_audio_ffmpeg(vf)\n",
        "#     ipd.Audio(output_file)\n",
        "\n",
        "video_file = \"/content/geeksforgeeks.mp4\"\n",
        "output_file = convert_video_to_audio_ffmpeg(video_file)\n",
        "ipd.Audio(output_file)"
      ],
      "metadata": {
        "id": "gBhk6hDzMumN"
      },
      "execution_count": null,
      "outputs": []
    },
    {
      "cell_type": "markdown",
      "source": [
        "# pydub"
      ],
      "metadata": {
        "id": "EITWFdFm0T3r"
      }
    },
    {
      "cell_type": "code",
      "source": [
        "# https://github.com/jiaaro/pydub"
      ],
      "metadata": {
        "id": "C2Q7IgcjYhQ0"
      },
      "execution_count": null,
      "outputs": []
    },
    {
      "cell_type": "code",
      "source": [
        "!pip install pydub"
      ],
      "metadata": {
        "id": "t74hcGW10Q7O"
      },
      "execution_count": null,
      "outputs": []
    },
    {
      "cell_type": "code",
      "source": [
        "from pydub import AudioSegment\n",
        "\n",
        "def extract_audio_pydub(video_file: str, output_file: str):\n",
        "    try:\n",
        "        # Video dosyasını yükleyin ve sesi videodan çıkarın\n",
        "        audio = AudioSegment.from_file(video_file, format=\"mp4\")\n",
        "        # Ses dosyasını kaydedin\n",
        "        audio.export(output_file, format=\"mp3\")\n",
        "        print(f\"Audio extracted and saved to {output_file}\")\n",
        "    except Exception as e:\n",
        "        print(f\"An error occurred: {e}\")\n",
        "\n",
        "# Örnek kullanımımız\n",
        "extract_audio_pydub(\"/content/video_name.mp4\", \"/content/audio_name.mp3\")\n",
        "\n",
        "import IPython.display as ipd\n",
        "ipd.Audio(\"/content/audio_name.mp3\")"
      ],
      "metadata": {
        "id": "Rd6wIM14h_Wl"
      },
      "execution_count": null,
      "outputs": []
    },
    {
      "cell_type": "code",
      "source": [
        "from pydub import AudioSegment\n",
        "\n",
        "video_file_path = \"/content/video_name.mp4\"\n",
        "audio_file_path = \"/content/audio_name.mp3\"\n",
        "\n",
        "try:\n",
        "  audio = AudioSegment.from_file(audio_file_path, format=\"mp4\")\n",
        "  print(f\"Audio file '{audio_file_path}' loaded successfully!\")\n",
        "  audio.export(output_file, format=\"mp3\")\n",
        "  print(f\"Audio extracted and saved to {output_file}\")\n",
        "except FileNotFoundError:\n",
        "  print(f\"Error: Audio file '{video_file_path}' not found.\")\n",
        "except Exception as e:\n",
        "  print(f\"An error occurred: {e}\")"
      ],
      "metadata": {
        "id": "uOAJAPB1i4BB"
      },
      "execution_count": null,
      "outputs": []
    },
    {
      "cell_type": "code",
      "source": [
        "from pydub import AudioSegment\n",
        "import IPython.display as ipd\n",
        "\n",
        "video_path = \"/content/video_name.mp4\"\n",
        "output_audio_path = \"/content/audio_name.mp3\"\n",
        "\n",
        "# Video dosyasından sesi çıkar\n",
        "ses = AudioSegment.from_file(video_path)\n",
        "\n",
        "# Ses dosyasını MP3 olarak kaydet\n",
        "ses.export(output_audio_path, format=\"mp3\")\n",
        "\n",
        "# Normalize edilmiş sesi çalma (IPython ortamında)\n",
        "ipd.Audio(output_audio_path)"
      ],
      "metadata": {
        "id": "KsgP9MiG0LUm"
      },
      "execution_count": null,
      "outputs": []
    },
    {
      "cell_type": "code",
      "source": [
        "from pydub import AudioSegment\n",
        "from pydub.effects import normalize\n",
        "import IPython.display as ipd\n",
        "\n",
        "# Ses dosyası konumu\n",
        "ses_dosyasi = AudioSegment.from_file(\"/content/sample-1.webm\")  # \"sample-1.webm\" yerine kendi dosya adınızı yazın\n",
        "\n",
        "# Sesi normalize etme\n",
        "normalleştirilmiş_ses = normalize(ses_dosyasi)\n",
        "\n",
        "# Normalize edilmiş sesi kaydetme\n",
        "normalleştirilmiş_ses.export(\"normalleştirilmiş_ses.mp3\", format=\"mp3\")\n",
        "\n",
        "# Normalize edilmiş sesi çalma (IPython ortamında)\n",
        "ipd.Audio(\"/content/normalleştirilmiş_ses.mp3\")"
      ],
      "metadata": {
        "id": "15_PZy5IwxAj"
      },
      "execution_count": null,
      "outputs": []
    },
    {
      "cell_type": "code",
      "source": [
        "from pydub import AudioSegment\n",
        "from pydub.effects import normalize\n",
        "import numpy as np\n",
        "\n",
        "def add_noise(audio_segment, noise_level=0.05):\n",
        "    samples = np.array(audio_segment.get_array_of_samples())\n",
        "    noise = np.random.normal(0, noise_level * np.max(samples), samples.shape)\n",
        "    noisy_samples = samples + noise\n",
        "    noisy_samples = np.clip(noisy_samples, -2**15, 2**15-1)\n",
        "    noisy_audio = audio_segment._spawn(noisy_samples.astype(np.int16).tobytes())\n",
        "    return noisy_audio\n",
        "\n",
        "audio = AudioSegment.from_file(\"/content/audio-geeksforgeeks.wav\")\n",
        "noisy_audio = add_noise(audio, noise_level=0.1)\n",
        "noisy_audio.export(\"noisy_audio.mp3\", format=\"mp3\")\n",
        "normalized_audio = normalize(noisy_audio)\n",
        "normalized_audio.export(\"normalized_audio.mp3\", format=\"mp3\")"
      ],
      "metadata": {
        "id": "tZcQLu4S1G-M"
      },
      "execution_count": null,
      "outputs": []
    },
    {
      "cell_type": "code",
      "source": [
        "from pydub import AudioSegment\n",
        "\n",
        "wav_file = AudioSegment.from_file(file = \"/content/audio_name.mp3\",\n",
        "                                  format = \"mp3\")\n",
        "\n",
        "print(f\"data type for the file {type(wav_file)}\")\n",
        "print(f\"frame rate of song/file {wav_file.frame_rate}\")\n",
        "print(f\"channels of file {wav_file.channels}\")\n",
        "print(f\"the number of bytes per sample {wav_file.sample_width}\")\n",
        "print(f\"Maximum amplitude {wav_file.max}\")\n",
        "print(f\"Length of audio file {len(wav_file)}\")\n",
        "\n",
        "'''\n",
        "We can change the attributes of file by\n",
        "changeed_audio_segment = audio_segment.set_ATTRIBUTENAME(x)\n",
        "'''\n",
        "wav_file_new = wav_file.set_frame_rate(50)\n",
        "print(wav_file_new.frame_rate)"
      ],
      "metadata": {
        "id": "nl83owAQudVv"
      },
      "execution_count": null,
      "outputs": []
    },
    {
      "cell_type": "code",
      "source": [
        "import pydub\n",
        "\n",
        "def get_audio_info(audio_file):\n",
        "    try:\n",
        "        # Check if the input is a valid pydub.AudioSegment object\n",
        "        if not isinstance(audio_file, pydub.AudioSegment):\n",
        "            raise TypeError(\"Input must be a pydub.AudioSegment object.\")\n",
        "\n",
        "        print(f\"Data type for the file: {type(audio_file)}\")\n",
        "        print(f\"Frame rate (samples per second): {audio_file.frame_rate}\")\n",
        "        print(f\"Number of channels (mono or stereo): {audio_file.channels}\")\n",
        "        print(f\"Number of bytes per sample: {audio_file.sample_width}\")\n",
        "        print(f\"Maximum amplitude: {audio_file.max}\")\n",
        "\n",
        "        # Handle potential division by zero for silence\n",
        "        if audio_file.duration_seconds > 0:\n",
        "            print(f\"Length of audio file (seconds): {len(audio_file) / 1000}\")\n",
        "        else:\n",
        "            print(f\"Length of audio file (seconds): Silence (0 seconds)\")\n",
        "\n",
        "    except (TypeError, Exception) as e:\n",
        "        print(f\"Error getting audio information: {e}\")\n",
        "\n",
        "\n",
        "# Videonun yolunu girin\n",
        "video_yolu = \"/content/video_name.mp4\"\n",
        "\n",
        "try:\n",
        "    # Videoyu ses dosyasına dönüştürün\n",
        "    audio = pydub.AudioSegment.from_file(video_yolu)\n",
        "\n",
        "    get_audio_info(audio)\n",
        "\n",
        "    # Ses dosyasını kaydedin\n",
        "    audio.export(\"ses.mp3\",format = \"mp3\")\n",
        "    print(f\"Ses dosyası '{video_yolu}' başarıyla ses.mp3 adıyla kaydedildi.\")\n",
        "\n",
        "except Exception as e:\n",
        "    print(f\"Ses dosyası kaydedilirken hata oluştu: {e}\")\n"
      ],
      "metadata": {
        "id": "21aooOJmeHaR"
      },
      "execution_count": null,
      "outputs": []
    },
    {
      "cell_type": "code",
      "source": [
        "from pydub import AudioSegment\n",
        "import IPython.display as ipd\n",
        "\n",
        "# ses dosyasını yükleyelim\n",
        "wav_file = AudioSegment.from_file(\"/content/audio_name.mp3\")  # \"audio_name.mp3\" yerine kendi dosya adınızı yazın\n",
        "\n",
        "# sesi yükseltelim\n",
        "louder_wav_file = wav_file + 10\n",
        "# sesi indirelim\n",
        "louder_wav_file.export(out_f = \"louder_wav_file.mp3\",\n",
        "                       format = \"mp3\")"
      ],
      "metadata": {
        "id": "r9ldIGqr2P6d"
      },
      "execution_count": null,
      "outputs": []
    },
    {
      "cell_type": "code",
      "source": [
        "# Gerekli kütüphaneleri ekleyin\n",
        "from pydub import AudioSegment\n",
        "from pydub.playback import play\n",
        "\n",
        "# Birinci ses dosyası\n",
        "wav_dosya_1 = AudioSegment.from_file(\"noice.wav\")  # \"noice.wav\" yerine kendi dosya adınızı yazın\n",
        "\n",
        "# İkinci ses dosyası\n",
        "wav_dosya_2 = AudioSegment.from_file(\"Sample.wav\")  # \"Sample.wav\" yerine kendi dosya adınızı yazın\n",
        "\n",
        "# İki ses dosyasını birleştirme\n",
        "wav_dosya_3 = wav_dosya_1 + wav_dosya_2  # + operatörü ile birleştirme\n",
        "\n",
        "# Birleştirilmiş sesi çalma\n",
        "play(wav_dosya_3)"
      ],
      "metadata": {
        "id": "9sA1qEHQ2z_l"
      },
      "execution_count": null,
      "outputs": []
    },
    {
      "cell_type": "code",
      "source": [
        "# Video klipleri düzenlemek için gereken fonksiyonu dahil edin\n",
        "from pydub import AudioSegment\n",
        "\n",
        "# Stereo ses dosyasını yükleyin\n",
        "audio = AudioSegment.from_file(\"/content/stereo_audio.mp3\")\n",
        "\n",
        "# Tekli kanallara bölün\n",
        "mono_channels  = audio.split_to_mono()\n",
        "print(mono_channels[0].channels)\n",
        "\n",
        "for idx, channel in enumerate(mono_channels):\n",
        "  print(f\"Channel {idx+1} has {channel.channels} channel(s)\")\n",
        "\n",
        "# (mono channels) Tekli kanalları dışa aktarın\n",
        "mono_channels[0].export(out_f=\"channel_1.mp3\",format=\"mp3\")\n",
        "mono_channels[1].export(out_f=\"channel_2.mp3\",format=\"mp3\")"
      ],
      "metadata": {
        "id": "CEW9miuM3MtQ"
      },
      "execution_count": null,
      "outputs": []
    },
    {
      "cell_type": "code",
      "source": [
        "from pydub import AudioSegment\n",
        "\n",
        "# Stereo ses dosyasını yükleyin\n",
        "stereo_audio = AudioSegment.from_file(\"stereo_audio.mp3\", format=\"mp3\")\n",
        "\n",
        "# Tekli kanallara bölün\n",
        "left_channel = stereo_audio.split_to_mono()[0]\n",
        "right_channel = stereo_audio.split_to_mono()[1]\n",
        "\n",
        "# (mono channels) Tekli kanalları dışa aktarın\n",
        "left_channel.export(\"left_channel.mp3\", format=\"mp3\")\n",
        "right_channel.export(\"right_channel.mp3\", format=\"mp3\")"
      ],
      "metadata": {
        "id": "D6gPdnZE6vUc"
      },
      "execution_count": null,
      "outputs": []
    },
    {
      "cell_type": "markdown",
      "source": [
        "# BASİT SESTEN YAZIYA ÖRNEĞİ (SPEECH TO TEXT)"
      ],
      "metadata": {
        "id": "kxHD_HcQ0uLj"
      }
    },
    {
      "cell_type": "code",
      "source": [
        "%pip install -q moviepy SpeechRecognition"
      ],
      "metadata": {
        "id": "dSU5gee-1jNf"
      },
      "execution_count": null,
      "outputs": []
    },
    {
      "cell_type": "code",
      "source": [
        "import moviepy.editor as mp\n",
        "import speech_recognition as sr\n",
        "import textwrap\n",
        "\n",
        "# Videoyu yükleyelim\n",
        "video = mp.VideoFileClip(\"/content/video_name.mp4\")\n",
        "\n",
        "# videodan sesi çıkartalım\n",
        "audio_file = video.audio\n",
        "audio_file.write_audiofile(\"audio_name.mp3\")\n",
        "\n",
        "# Initialize recognizer\n",
        "r = sr.Recognizer()\n",
        "\n",
        "# Ses dosyasını yükleyelim\n",
        "with sr.AudioFile(\"audio_name.mp3\") as source:\n",
        "    try:\n",
        "        audio_data = r.record(source)\n",
        "        text = r.recognize_google(audio_data)\n",
        "        # text = r.recognize_google(audio_data, language='tr-TR')\n",
        "        print(\"\\nVideodan elde edilen metin şöyledir: \\n\")\n",
        "        print(textwrap.fill(text, 80))\n",
        "\n",
        "    except Exception as e:\n",
        "        print(\"Ses algılandığında bir hata oluştu:\", str(e))"
      ],
      "metadata": {
        "id": "wrkSV9h00wAS"
      },
      "execution_count": null,
      "outputs": []
    },
    {
      "cell_type": "markdown",
      "source": [
        "# Video klipleri Editleme"
      ],
      "metadata": {
        "id": "KwF8hZPPQZk-"
      }
    },
    {
      "cell_type": "code",
      "source": [
        "# Video klipleri düzenlemek için gereken her şeyi içe aktarın\n",
        "from moviepy.editor import VideoFileClip\n",
        "\n",
        "# Videoyu yükleme\n",
        "clip = VideoFileClip(\"/content/video_name.mp4\")  # video_adı yerine video dosyanızın adını yazın\n",
        "\n",
        "# Videodan alt klip alma\n",
        "sub_clip = clip.subclip(0, 5)  # Başlangıç ve bitiş zamanı (saniye)\n",
        "\n",
        "# Genişlik, yükseklik, süre ve klibin adını alma\n",
        "yukseklik = sub_clip.h\n",
        "genislik = sub_clip.w\n",
        "ad = sub_clip.filename\n",
        "clip_suresi = clip.duration\n",
        "alt_klip_suresi = sub_clip.duration\n",
        "ses = sub_clip.audio  # Alt klipte ses olup olmadığını kontrol etme\n",
        "\n",
        "# Klibin başlangıç ve bitiş zamanını alma\n",
        "baslangic_zamani = clip.start\n",
        "bitis_zamani = clip.end\n",
        "\n",
        "# Genişlik, yükseklik, süre ve adın değerlerini yazdırma\n",
        "print(\"Dosya Adı     : \" + ad)\n",
        "print(\"Klip Süresi   : \" + str(clip_suresi))\n",
        "print(\"Alt Klip Süresi: \" + str(alt_klip_suresi))\n",
        "print(\"Klibin Genişliği: \" + str(genislik))\n",
        "print(\"Klibin Yüksekliği: \" + str(yukseklik))\n",
        "\n",
        "print(f\"Başlangıç Zamanı: {baslangic_zamani}\")\n",
        "print(f\"Bitiş Zamanı   : {bitis_zamani}\")\n",
        "\n",
        "# Klibi kaydetme (şu an için yorum satırı olarak)\n",
        "# sub_clip.write_videofile(\"alt_klip.mp4\")\n",
        "\n",
        "# Videoya kenarlık ekleme\n",
        "sub_clip = sub_clip.margin(40)  # Kenarlık boyutu (piksel)\n",
        "\n",
        "# Yeni kare hızıyla yeni klip oluşturma\n",
        "sub_clip = sub_clip.set_fps(5)  # Yeni kare hızı (FPS)\n",
        "\n",
        "# Renk efekti uygulama\n",
        "sub_clip = sub_clip.fx(vfx.colorx, 1.5)  # Renk yoğunluğu (1.0 normal)\n",
        "\n",
        "sub_clip = sub_clip.fx(vfx.mirror_y)  # Videoyu yatay olarak yansıtma\n",
        "\n",
        "# Verilen klibin yüzeysel kopyasını oluşturma\n",
        "kopyalanmis_klip = sub_clip.copy()\n",
        "\n",
        "print(\"---------------------------------------\")\n",
        "sub_clip.ipython_display(width=480)  # Son klibi göster (genişlik 480 piksel)\n",
        "# sub_clip.ipython_display(loop=3)  # Videoyu 3 kez döngü (kütüphane gerekli)\n"
      ],
      "metadata": {
        "id": "6GvUhx4B6NfA"
      },
      "execution_count": null,
      "outputs": []
    },
    {
      "cell_type": "markdown",
      "source": [
        "## Videolara Müzik Ekleme"
      ],
      "metadata": {
        "id": "laYDA9Qcv2_q"
      }
    },
    {
      "cell_type": "code",
      "source": [
        "from moviepy.editor import VideoFileClip, AudioFileClip\n",
        "\n",
        "# Video klibini yükleyin\n",
        "clip = mp.VideoFileClip(\"/content/video_file.mp4\")\n",
        "duration_clip = clip.duration\n",
        "print(duration_clip)\n",
        "\n",
        "# Müzik dosyasını yükleyin ve video süresine göre kırpın\n",
        "music = mp.AudioFileClip(\"/content/audio_file.mp3\")\n",
        "music_clipped = music.subclip(0, duration_clip)\n",
        "\n",
        "# Müziği video klibine ekleyin\n",
        "final_clip = clip.set_audio(music_clipped)\n",
        "\n",
        "# Yeni video klibini kaydedin\n",
        "output_path = \"my_edited_video.mp4\"\n",
        "final_clip.write_videofile(output_path, codec=\"libx264\", audio_codec=\"aac\")\n",
        "print(f\"Yeni video '{output_path}' dosyasına başarıyla kaydedildi!\")\n",
        "\n",
        "final_clip.ipython_display(width = 480) # showing final clip"
      ],
      "metadata": {
        "id": "gJcefm_UpE_T"
      },
      "execution_count": null,
      "outputs": []
    },
    {
      "cell_type": "markdown",
      "source": [
        "## Videolara Özel Efektler Uygulama"
      ],
      "metadata": {
        "id": "UJnnPKDiv-PJ"
      }
    },
    {
      "cell_type": "code",
      "source": [
        "from moviepy.editor import VideoFileClip,CompositeVideoClip\n",
        "import IPython.display as ipd\n",
        "\n",
        "clip = VideoFileClip(\"/content/video_name.mp4\")\n",
        "rclip = clip.resize(0.8).without_audio()\n",
        "comp = CompositeVideoClip([clip, rclip.set_pos('center')])\n",
        "comp.write_videofile('resize_fname.mp4')"
      ],
      "metadata": {
        "id": "PdsjEx1rGDW_"
      },
      "execution_count": null,
      "outputs": []
    },
    {
      "cell_type": "markdown",
      "source": [
        "### Düşürülmüş FPS ve daha karanlık video"
      ],
      "metadata": {
        "id": "JpUxQZKUCGHI"
      }
    },
    {
      "cell_type": "code",
      "source": [
        "# make clip slower 0.7 and darken the video\n",
        "from moviepy.editor import VideoFileClip, AudioFileClip\n",
        "import moviepy.video.fx.all as vfx\n",
        "\n",
        "clip = VideoFileClip(\"/content/video_name.mp4\")\n",
        "newClip = clip.fx(vfx.speedx, 0.7).fx(vfx.colorx, 0.8)\n",
        "newClip.write_videofile('slowerDarker.mp4', codec=\"libx264\", audio_codec=\"aac\")\n",
        "print(\"---------------------------------------\")\n",
        "newClip.ipython_display(width = 480)"
      ],
      "metadata": {
        "id": "-2h32pi__wKx"
      },
      "execution_count": null,
      "outputs": []
    },
    {
      "cell_type": "markdown",
      "source": [
        "### Arka plan sesi ekleme"
      ],
      "metadata": {
        "id": "mdEoEUP2CKTl"
      }
    },
    {
      "cell_type": "code",
      "source": [
        "from pydub import AudioSegment\n",
        "\n",
        "# İlk ses dosyasını yükleyin\n",
        "background_music = AudioSegment.from_file(\"/content/audio_name_one.wav\")\n",
        "\n",
        "# İkinci ses dosyasını yükleyin\n",
        "voice_over = AudioSegment.from_file(\"/content/audio_name_two.mp3\")\n",
        "\n",
        "# Arka plan müziği ile ses dosyasını birleştirin\n",
        "final_audio = background_music.overlay(voice_over, position=0)\n",
        "\n",
        "# Birleştirilmiş ses dosyasını kaydedin\n",
        "output_path = \"/content/final_audio.mp3\"\n",
        "final_audio.export(output_path, format='mp3')\n",
        "print(f\"Birleştirilmiş ses dosyası '{output_path}' dosyasına başarıyla kaydedildi!\")"
      ],
      "metadata": {
        "id": "H6k60HRrFbA8"
      },
      "execution_count": null,
      "outputs": []
    },
    {
      "cell_type": "code",
      "source": [
        "from pydub import AudioSegment\n",
        "import IPython.display as ipd\n",
        "\n",
        "# İlk ses dosyasını yükleyin\n",
        "sound1 = AudioSegment.from_file(\"/content/audio_name_one.wav\")\n",
        "\n",
        "# Ses dosyasının süresini alın\n",
        "duration_audio_clip = len(sound1)\n",
        "\n",
        "# İkinci ses dosyasını yükleyin\n",
        "sound2 = AudioSegment.from_file(\"/content/audio_name_two.mp3\")\n",
        "\n",
        "# İkinci ses dosyasını, ilk ses dosyasının süresiyle eşleştirmek için kırpın\n",
        "sound2_clipped = sound2[:duration_audio_clip]\n",
        "\n",
        "# Arka plan sesinin ses seviyesini azaltın\n",
        "sound2_quieter  = sound2_clipped - 10\n",
        "\n",
        "# İki ses dosyasını birleştirin\n",
        "combined = sound1.overlay(sound2_quieter)\n",
        "\n",
        "# Birleştirilmiş ses dosyasını kaydedin\n",
        "output_path = \"/content/combined.mp3\"\n",
        "combined.export(output_path, format='mp3')\n",
        "print(f\"Birleştirilmiş ses dosyası '{output_path}' dosyasına başarıyla kaydedildi!\")\n",
        "\n",
        "# Ses dosyasını dinleyebilirsiniz\n",
        "ipd.Audio(output_path)"
      ],
      "metadata": {
        "id": "ohW4xtP1CEBx"
      },
      "execution_count": null,
      "outputs": []
    },
    {
      "cell_type": "code",
      "source": [
        "from moviepy.editor import VideoFileClip\n",
        "\n",
        "def resize_video(input_video_path:str, output_video_path:str, new_width:int=640, new_height:int=360) -> None:\n",
        "  \"\"\"Video klibini yeniden boyutlandırıp yeniden boyutlandırılmış versiyonunu kaydeder.\n",
        "\n",
        "  Args:\n",
        "      input_video_path (str): Giriş video dosyasının yolu.\n",
        "      output_video_path (str): Yeniden boyutlandırılmış video dosyasını kaydetmek için yol.\n",
        "      new_width (int, optional): İstenen genişlik piksel cinsinden. Varsayılan değer 640.\n",
        "      new_height (int, optional): İstenen yükseklik piksel cinsinden. Varsayılan değer 360.\n",
        "  \"\"\"\n",
        "\n",
        "  try:\n",
        "      # Video klibini yükleyen kısım\n",
        "      clip = VideoFileClip(input_video_path)\n",
        "      duration = clip.duration\n",
        "      print(duration)\n",
        "      subclip = clip.subclip(0, float(duration))\n",
        "\n",
        "      # Video klibini boyutlandıran kısım\n",
        "      resized_clip = subclip.resize((new_width, new_height))\n",
        "\n",
        "       # Yeniden boyutlandırılmış video klibini yeni bir dosyaya yazan ksıım\n",
        "      resized_clip.write_videofile(output_video_path, codec=\"libx264\", fps=clip.fps)\n",
        "      print(f\"Yeniden boyutlandırılmış video '{output_video_path}' olarak kaydedildi.\")\n",
        "\n",
        "  except Exception as e:\n",
        "      print(f\"Video boyutlandırma hatası: {e}\")\n",
        "  finally:\n",
        "    clip.close()\n",
        "\n",
        "\n",
        "# Example usage\n",
        "input_video_path = \"/content/geeksforgeeks.mp4\"\n",
        "output_video_path = \"output_video_resized.mp4\"\n",
        "resize_video(input_video_path, output_video_path)"
      ],
      "metadata": {
        "id": "h1UIsKmadZos"
      },
      "execution_count": null,
      "outputs": []
    }
  ]
}